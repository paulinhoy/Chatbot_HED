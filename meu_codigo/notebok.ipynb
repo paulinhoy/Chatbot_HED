{
 "cells": [
  {
   "cell_type": "code",
   "execution_count": 1,
   "id": "30d1028c",
   "metadata": {},
   "outputs": [],
   "source": [
    "import pandas as pd"
   ]
  },
  {
   "cell_type": "code",
   "execution_count": 2,
   "id": "2628d41c",
   "metadata": {},
   "outputs": [],
   "source": [
    "df = pd.read_parquet(\"doencas_tratado.parquet\")\n",
    "df[\"Entrada\"] = pd.to_datetime(df[\"Entrada\"])\n",
    "df[\"Alta\"] = pd.to_datetime(df[\"Alta\"]) \n",
    "df.drop(columns='Prontuário', inplace=True)"
   ]
  },
  {
   "cell_type": "code",
   "execution_count": 12,
   "id": "8ef45972",
   "metadata": {},
   "outputs": [],
   "source": [
    "df['Mes'] = df['Entrada'].dt.to_period('M')\n",
    "df = df.sort_values('Entrada', ascending=False)\n",
    "df = df.drop_duplicates(subset=['Nome', 'Mes'])\n",
    "result = df[(df['Mes'].isin(['2024-02', '2024-03', '2024-04'])) & (df['DPOC'] == 1)].Nome.nunique()"
   ]
  }
 ],
 "metadata": {
  "kernelspec": {
   "display_name": ".venv",
   "language": "python",
   "name": "python3"
  },
  "language_info": {
   "codemirror_mode": {
    "name": "ipython",
    "version": 3
   },
   "file_extension": ".py",
   "mimetype": "text/x-python",
   "name": "python",
   "nbconvert_exporter": "python",
   "pygments_lexer": "ipython3",
   "version": "3.13.2"
  }
 },
 "nbformat": 4,
 "nbformat_minor": 5
}
